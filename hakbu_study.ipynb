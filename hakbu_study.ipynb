{
  "nbformat": 4,
  "nbformat_minor": 0,
  "metadata": {
    "colab": {
      "name": "hakbu-study",
      "provenance": [],
      "collapsed_sections": []
    },
    "kernelspec": {
      "name": "python3",
      "display_name": "Python 3"
    },
    "language_info": {
      "name": "python"
    }
  },
  "cells": [
    {
      "cell_type": "code",
      "source": [
        "import requests\n",
        "import json"
      ],
      "metadata": {
        "id": "TRIj1-iSQ9Mg"
      },
      "execution_count": null,
      "outputs": []
    },
    {
      "cell_type": "code",
      "source": [
        "#request 라이브러리 이용하여 ainize에서 제공하는 api 접속 후 텍스트 생성\n",
        "r = requests.post(\n",
        "    'https://train-fei9m6mlw2sxpm1vylvo-gpt2-train-teachable-ainize.endpoint.ainize.ai/predictions/gpt-2-ko-small-finetune',\n",
        "    headers={\n",
        "      'Content-Type': 'application/json'  \n",
        "    },\n",
        "    data=json.dumps({\n",
        "        'text': '게임',\n",
        "        'num_samples': 5,\n",
        "        'length': 16\n",
        "    }))\n",
        "\n",
        "r.json()"
      ],
      "metadata": {
        "id": "hpkmQEVsQ9ks",
        "colab": {
          "base_uri": "https://localhost:8080/"
        },
        "outputId": "7c61670e-8398-4b5a-8088-5e5f2871ccac"
      },
      "execution_count": null,
      "outputs": [
        {
          "output_type": "execute_result",
          "data": {
            "text/plain": [
              "['게임자체가 인게임상에선 보기드문데도 하단의 배경화면',\n",
              " '게임은 이제 안먹히나요\\n하체왜이렇게 허',\n",
              " '게임자키 \\n코에이님 뭐 하실지 몰라서',\n",
              " '게임 한 장 더 더 해보자용요 한 번 더 하자면 한',\n",
              " '게임한 거 보고 아하 어쩐지 개웃기기\\n역시']"
            ]
          },
          "metadata": {},
          "execution_count": 16
        }
      ]
    },
    {
      "cell_type": "code",
      "source": [
        "result = r.json()\n",
        "\n",
        "for r in result:\n",
        "    print(r)\n",
        "\n",
        "\n",
        "\n",
        "\n",
        "\n",
        "\n",
        "\n",
        "\n",
        "\n",
        "\n",
        "    "
      ],
      "metadata": {
        "colab": {
          "base_uri": "https://localhost:8080/"
        },
        "id": "ORybQ6WCgbea",
        "outputId": "3a83998a-14a2-4efc-8772-cafa48f42a98"
      },
      "execution_count": null,
      "outputs": [
        {
          "output_type": "stream",
          "name": "stdout",
          "text": [
            "게임자체가 인게임상에선 보기드문데도 하단의 배경화면\n",
            "게임은 이제 안먹히나요\n",
            "하체왜이렇게 허\n",
            "게임자키 \n",
            "코에이님 뭐 하실지 몰라서\n",
            "게임 한 장 더 더 해보자용요 한 번 더 하자면 한\n",
            "게임한 거 보고 아하 어쩐지 개웃기기\n",
            "역시\n"
          ]
        }
      ]
    }
  ]
}