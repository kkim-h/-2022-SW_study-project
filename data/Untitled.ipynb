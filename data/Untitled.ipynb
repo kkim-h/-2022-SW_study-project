{
 "cells": [
  {
   "cell_type": "code",
   "execution_count": 1,
   "id": "326db0eb",
   "metadata": {},
   "outputs": [],
   "source": [
    "import pandas as pd\n",
    "import glob\n",
    "import os\n",
    "\n"
   ]
  },
  {
   "cell_type": "code",
   "execution_count": 7,
   "id": "d58943bc",
   "metadata": {
    "scrolled": false
   },
   "outputs": [
    {
     "name": "stdout",
     "output_type": "stream",
     "text": [
      "['C:\\\\Users\\\\DH KIM\\\\Desktop\\\\댓글\\\\all\\\\ㄱPONY_fin.csv', 'C:\\\\Users\\\\DH KIM\\\\Desktop\\\\댓글\\\\all\\\\감스트_fin.csv', 'C:\\\\Users\\\\DH KIM\\\\Desktop\\\\댓글\\\\all\\\\강경원_fin.csv', 'C:\\\\Users\\\\DH KIM\\\\Desktop\\\\댓글\\\\all\\\\강하나_fin.csv', 'C:\\\\Users\\\\DH KIM\\\\Desktop\\\\댓글\\\\all\\\\괴물쥐_fin.csv', 'C:\\\\Users\\\\DH KIM\\\\Desktop\\\\댓글\\\\all\\\\권혁_fin.csv', 'C:\\\\Users\\\\DH KIM\\\\Desktop\\\\댓글\\\\all\\\\기리_fin.csv', 'C:\\\\Users\\\\DH KIM\\\\Desktop\\\\댓글\\\\all\\\\김블루_fin.csv', 'C:\\\\Users\\\\DH KIM\\\\Desktop\\\\댓글\\\\all\\\\김습습_fin.csv', 'C:\\\\Users\\\\DH KIM\\\\Desktop\\\\댓글\\\\all\\\\까로_fin.csv', 'C:\\\\Users\\\\DH KIM\\\\Desktop\\\\댓글\\\\all\\\\꽁병지_fin.csv', 'C:\\\\Users\\\\DH KIM\\\\Desktop\\\\댓글\\\\all\\\\다또아_fin.csv', 'C:\\\\Users\\\\DH KIM\\\\Desktop\\\\댓글\\\\all\\\\다영_fin.csv', 'C:\\\\Users\\\\DH KIM\\\\Desktop\\\\댓글\\\\all\\\\대도서관_fin.csv', 'C:\\\\Users\\\\DH KIM\\\\Desktop\\\\댓글\\\\all\\\\데이지_fin.csv', 'C:\\\\Users\\\\DH KIM\\\\Desktop\\\\댓글\\\\all\\\\뜨뜨뜨뜨_fin.csv', 'C:\\\\Users\\\\DH KIM\\\\Desktop\\\\댓글\\\\all\\\\라뮤끄_fin.csv', 'C:\\\\Users\\\\DH KIM\\\\Desktop\\\\댓글\\\\all\\\\레오제이_fin.csv', 'C:\\\\Users\\\\DH KIM\\\\Desktop\\\\댓글\\\\all\\\\로즈하_fin.csv', 'C:\\\\Users\\\\DH KIM\\\\Desktop\\\\댓글\\\\all\\\\말왕_fin.csv', 'C:\\\\Users\\\\DH KIM\\\\Desktop\\\\댓글\\\\all\\\\매미킴_fin.csv', 'C:\\\\Users\\\\DH KIM\\\\Desktop\\\\댓글\\\\all\\\\머독_fin.csv', 'C:\\\\Users\\\\DH KIM\\\\Desktop\\\\댓글\\\\all\\\\민새롬_fin.csv', 'C:\\\\Users\\\\DH KIM\\\\Desktop\\\\댓글\\\\all\\\\비타민신지니_fin.csv', 'C:\\\\Users\\\\DH KIM\\\\Desktop\\\\댓글\\\\all\\\\빅헤드_fin.csv', 'C:\\\\Users\\\\DH KIM\\\\Desktop\\\\댓글\\\\all\\\\수탉_fin.csv', 'C:\\\\Users\\\\DH KIM\\\\Desktop\\\\댓글\\\\all\\\\슛포러브_fin.csv', 'C:\\\\Users\\\\DH KIM\\\\Desktop\\\\댓글\\\\all\\\\씬님_fin.csv', 'C:\\\\Users\\\\DH KIM\\\\Desktop\\\\댓글\\\\all\\\\아름송이_fin.csv', 'C:\\\\Users\\\\DH KIM\\\\Desktop\\\\댓글\\\\all\\\\악어_fin.csv', 'C:\\\\Users\\\\DH KIM\\\\Desktop\\\\댓글\\\\all\\\\야옹해바바_fin.csv', 'C:\\\\Users\\\\DH KIM\\\\Desktop\\\\댓글\\\\all\\\\양띵_fin.csv', 'C:\\\\Users\\\\DH KIM\\\\Desktop\\\\댓글\\\\all\\\\에이핏_fin.csv', 'C:\\\\Users\\\\DH KIM\\\\Desktop\\\\댓글\\\\all\\\\연두콩_fin.csv', 'C:\\\\Users\\\\DH KIM\\\\Desktop\\\\댓글\\\\all\\\\올블랑_fin.csv', 'C:\\\\Users\\\\DH KIM\\\\Desktop\\\\댓글\\\\all\\\\요가소년_fin.csv', 'C:\\\\Users\\\\DH KIM\\\\Desktop\\\\댓글\\\\all\\\\우왁굳_fin.csv', 'C:\\\\Users\\\\DH KIM\\\\Desktop\\\\댓글\\\\all\\\\우주하마_fin.csv', 'C:\\\\Users\\\\DH KIM\\\\Desktop\\\\댓글\\\\all\\\\운지기_fin.csv', 'C:\\\\Users\\\\DH KIM\\\\Desktop\\\\댓글\\\\all\\\\울산큰고래_fin.csv', 'C:\\\\Users\\\\DH KIM\\\\Desktop\\\\댓글\\\\all\\\\유나_fin.csv', 'C:\\\\Users\\\\DH KIM\\\\Desktop\\\\댓글\\\\all\\\\유앤아인_fin.csv', 'C:\\\\Users\\\\DH KIM\\\\Desktop\\\\댓글\\\\all\\\\유트루_fin.csv', 'C:\\\\Users\\\\DH KIM\\\\Desktop\\\\댓글\\\\all\\\\유희주_fin.csv', 'C:\\\\Users\\\\DH KIM\\\\Desktop\\\\댓글\\\\all\\\\윤짜미_fin.csv', 'C:\\\\Users\\\\DH KIM\\\\Desktop\\\\댓글\\\\all\\\\이사베_fin.csv', 'C:\\\\Users\\\\DH KIM\\\\Desktop\\\\댓글\\\\all\\\\자세요정_fin.csv', 'C:\\\\Users\\\\DH KIM\\\\Desktop\\\\댓글\\\\all\\\\잠뜰_fin.csv', 'C:\\\\Users\\\\DH KIM\\\\Desktop\\\\댓글\\\\all\\\\저라뎃_fin.csv', 'C:\\\\Users\\\\DH KIM\\\\Desktop\\\\댓글\\\\all\\\\제이제이_fin.csv', 'C:\\\\Users\\\\DH KIM\\\\Desktop\\\\댓글\\\\all\\\\조효진_fin.csv', 'C:\\\\Users\\\\DH KIM\\\\Desktop\\\\댓글\\\\all\\\\지피티_fin.csv', 'C:\\\\Users\\\\DH KIM\\\\Desktop\\\\댓글\\\\all\\\\청원이_fin.csv', 'C:\\\\Users\\\\DH KIM\\\\Desktop\\\\댓글\\\\all\\\\키다리형_fin.csv', 'C:\\\\Users\\\\DH KIM\\\\Desktop\\\\댓글\\\\all\\\\테스터훈_fin.csv', 'C:\\\\Users\\\\DH KIM\\\\Desktop\\\\댓글\\\\all\\\\텔론_fin.csv', 'C:\\\\Users\\\\DH KIM\\\\Desktop\\\\댓글\\\\all\\\\피지컬갤러리_fin.csv', 'C:\\\\Users\\\\DH KIM\\\\Desktop\\\\댓글\\\\all\\\\핏블리_fin.csv', 'C:\\\\Users\\\\DH KIM\\\\Desktop\\\\댓글\\\\all\\\\회사원A_fin.csv', 'C:\\\\Users\\\\DH KIM\\\\Desktop\\\\댓글\\\\all\\\\힙으뜸_fin.csv']\n"
     ]
    }
   ],
   "source": [
    "input_file = r'C:\\Users\\DH KIM\\Desktop\\댓글\\all' # csv파일들이 있는 디렉토리 위치\n",
    "output_file = r'C:\\Users\\DH KIM\\Desktop\\댓글\\all\\all_result.csv' # 병합하고 저장하려는 파일명\n",
    "\n",
    "allFile_list = glob.glob(os.path.join(input_file, '*.csv')) # glob함수로 sales_로 시작하는 파일들을 모은다\n",
    "print(allFile_list)\n",
    "allData = [] # 읽어 들인 csv파일 내용을 저장할 빈 리스트를 하나 만든다\n",
    "for file in allFile_list:\n",
    "    df = pd.read_csv(file,encoding='cp949') # for구문으로 csv파일들을 읽어 들인다\n",
    "    allData.append(df) # 빈 리스트에 읽어 들인 내용을 추가한다"
   ]
  },
  {
   "cell_type": "code",
   "execution_count": 34,
   "id": "470c0e03",
   "metadata": {},
   "outputs": [
    {
     "data": {
      "text/plain": [
       "60"
      ]
     },
     "execution_count": 34,
     "metadata": {},
     "output_type": "execute_result"
    }
   ],
   "source": [
    "len(allData)\n"
   ]
  },
  {
   "cell_type": "code",
   "execution_count": 32,
   "id": "a3ab82f0",
   "metadata": {
    "scrolled": true
   },
   "outputs": [
    {
     "data": {
      "text/html": [
       "<div>\n",
       "<style scoped>\n",
       "    .dataframe tbody tr th:only-of-type {\n",
       "        vertical-align: middle;\n",
       "    }\n",
       "\n",
       "    .dataframe tbody tr th {\n",
       "        vertical-align: top;\n",
       "    }\n",
       "\n",
       "    .dataframe thead th {\n",
       "        text-align: right;\n",
       "    }\n",
       "</style>\n",
       "<table border=\"1\" class=\"dataframe\">\n",
       "  <thead>\n",
       "    <tr style=\"text-align: right;\">\n",
       "      <th></th>\n",
       "      <th>comment_text</th>\n",
       "    </tr>\n",
       "  </thead>\n",
       "  <tbody>\n",
       "    <tr>\n",
       "      <th>0</th>\n",
       "      <td>면과 스프를 고립 흰자와 노른자와 고립 먹방을 보고 식욕이 사라졌습니다 부처도 이렇...</td>\n",
       "    </tr>\n",
       "    <tr>\n",
       "      <th>1</th>\n",
       "      <td>감사합니다 강경원 선배님 앞으로도 선배님 조언 해주신대로 열심히 묵묵히 하겠습니다 ...</td>\n",
       "    </tr>\n",
       "    <tr>\n",
       "      <th>2</th>\n",
       "      <td>옛날 정보부족으로 인한 무지 현재 정보홍수로 인한 혼돈 나 강경원을 안믿어도 좋으나...</td>\n",
       "    </tr>\n",
       "    <tr>\n",
       "      <th>3</th>\n",
       "      <td>강경원 선수는 볼에도 근육이 있으시네 눈높이가 높아졌으나 마인드는 아니다라는말 와닿...</td>\n",
       "    </tr>\n",
       "    <tr>\n",
       "      <th>4</th>\n",
       "      <td>아이구야 얼굴이 화끈화끈합니다 꿈같은 선생님께서 제 운동하는것 봐주셔서 너무나 염광...</td>\n",
       "    </tr>\n",
       "    <tr>\n",
       "      <th>5</th>\n",
       "      <td>왜들 그리 다운돼있어 전 아카데미교육생 시절부터 강경원선생님 팬이였어요 이렇게 좋은...</td>\n",
       "    </tr>\n",
       "    <tr>\n",
       "      <th>6</th>\n",
       "      <td>저날 배워서 돌아온후로 하체 운동이 많이 달라졌어요 요즘 너무너무 제가 사랑하는 운...</td>\n",
       "    </tr>\n",
       "    <tr>\n",
       "      <th>7</th>\n",
       "      <td>혀마저 고립 갈치맛이 난다고 할때 선수님의 그 진심어린 눈빛에 정신이 혼미해집니다 ...</td>\n",
       "    </tr>\n",
       "    <tr>\n",
       "      <th>8</th>\n",
       "      <td>이 채널에서 가장멋있는건 채널이름이다 경원 워크아웃 이라던지 하는것보다 그냥 강경원...</td>\n",
       "    </tr>\n",
       "    <tr>\n",
       "      <th>9</th>\n",
       "      <td>신생아라고 했던 영상이 너무 부끄럽습니다 아 그래도 이후로도 선수님 컨텐츠에 이렇게...</td>\n",
       "    </tr>\n",
       "  </tbody>\n",
       "</table>\n",
       "</div>"
      ],
      "text/plain": [
       "                                        comment_text\n",
       "0  면과 스프를 고립 흰자와 노른자와 고립 먹방을 보고 식욕이 사라졌습니다 부처도 이렇...\n",
       "1  감사합니다 강경원 선배님 앞으로도 선배님 조언 해주신대로 열심히 묵묵히 하겠습니다 ...\n",
       "2  옛날 정보부족으로 인한 무지 현재 정보홍수로 인한 혼돈 나 강경원을 안믿어도 좋으나...\n",
       "3  강경원 선수는 볼에도 근육이 있으시네 눈높이가 높아졌으나 마인드는 아니다라는말 와닿...\n",
       "4  아이구야 얼굴이 화끈화끈합니다 꿈같은 선생님께서 제 운동하는것 봐주셔서 너무나 염광...\n",
       "5  왜들 그리 다운돼있어 전 아카데미교육생 시절부터 강경원선생님 팬이였어요 이렇게 좋은...\n",
       "6  저날 배워서 돌아온후로 하체 운동이 많이 달라졌어요 요즘 너무너무 제가 사랑하는 운...\n",
       "7  혀마저 고립 갈치맛이 난다고 할때 선수님의 그 진심어린 눈빛에 정신이 혼미해집니다 ...\n",
       "8  이 채널에서 가장멋있는건 채널이름이다 경원 워크아웃 이라던지 하는것보다 그냥 강경원...\n",
       "9  신생아라고 했던 영상이 너무 부끄럽습니다 아 그래도 이후로도 선수님 컨텐츠에 이렇게..."
      ]
     },
     "execution_count": 32,
     "metadata": {},
     "output_type": "execute_result"
    }
   ],
   "source": [
    "for i in range(len(allData)):\n",
    "    allData[i] = allData[i].loc[:,['comment_text']]\n",
    "\n",
    "allData[2]"
   ]
  },
  {
   "cell_type": "code",
   "execution_count": 35,
   "id": "85a83968",
   "metadata": {
    "scrolled": true
   },
   "outputs": [],
   "source": [
    "merged = pd.concat(allData)"
   ]
  },
  {
   "cell_type": "code",
   "execution_count": 38,
   "id": "32ef682b",
   "metadata": {},
   "outputs": [],
   "source": [
    "merged.to_csv('result_concat.csv',encoding='cp949')"
   ]
  },
  {
   "cell_type": "code",
   "execution_count": null,
   "id": "3a6b3e17",
   "metadata": {},
   "outputs": [],
   "source": [
    "input_file = r'C:\\Users\\DH KIM\\Desktop\\댓글\\all' # csv파일들이 있는 디렉토리 위치\n",
    "output_file = r'C:\\Users\\DH KIM\\Desktop\\댓글\\all\\all_result.csv' # 병합하고 저장하려는 파일명\n",
    "\n",
    "allFile_list = glob.glob(os.path.join(input_file, '*.csv')) # glob함수로 sales_로 시작하는 파일들을 모은다\n",
    "print(allFile_list)\n",
    "allData = [] # 읽어 들인 csv파일 내용을 저장할 빈 리스트를 하나 만든다\n",
    "for file in allFile_list:\n",
    "    df = pd.read_csv(file) # for구문으로 csv파일들을 읽어 들인다\n",
    "    allData.append(df) # 빈 리스트에 읽어 들인 내용을 추가한다\n",
    "\n",
    "dataCombine = pd.concat(allData, axis=0, ignore_index=True) # concat함수를 이용해서 리스트의 내용을 병합\n",
    "# axis=0은 수직으로 병합함. axis=1은 수평. ignore_index=True는 인데스 값이 기존 순서를 무시하고 순서대로 정렬되도록 한다.\n",
    "dataCombine.to_csv(output_file, index=False) # to_csv함수로 저장한다. 인데스를 빼려면 False로 설정"
   ]
  }
 ],
 "metadata": {
  "kernelspec": {
   "display_name": "python3_8_11",
   "language": "python",
   "name": "py3_8_11"
  },
  "language_info": {
   "codemirror_mode": {
    "name": "ipython",
    "version": 3
   },
   "file_extension": ".py",
   "mimetype": "text/x-python",
   "name": "python",
   "nbconvert_exporter": "python",
   "pygments_lexer": "ipython3",
   "version": "3.8.11"
  }
 },
 "nbformat": 4,
 "nbformat_minor": 5
}
